{
 "cells": [
  {
   "cell_type": "code",
   "execution_count": 1,
   "metadata": {},
   "outputs": [],
   "source": [
    "import os\n",
    "import pathlib\n",
    "import numpy as np\n",
    "\n",
    "\n",
    "import pandas as pd\n",
    "import seaborn as sns\n",
    "from tqdm.notebook import tqdm\n",
    "import matplotlib.pyplot as plt\n",
    "from sklearn.metrics import classification_report\n",
    "from sklearn.model_selection import train_test_split\n",
    "\n",
    "\n",
    "import tensorflow as tf\n",
    "from tensorflow.keras.models import Sequential\n",
    "from tensorflow.keras.layers import Dense, Conv2D, Flatten, Dropout, MaxPooling2D"
   ]
  },
  {
   "cell_type": "code",
   "execution_count": 2,
   "metadata": {},
   "outputs": [
    {
     "name": "stdout",
     "output_type": "stream",
     "text": [
      "GPU Name:  [PhysicalDevice(name='/physical_device:GPU:0', device_type='GPU')]\n",
      "Is TF built with CUDA:  True\n"
     ]
    }
   ],
   "source": [
    "gpu_devices = tf.config.experimental.list_physical_devices(\"GPU\")\n",
    "for device in gpu_devices:\n",
    "    tf.config.experimental.set_memory_growth(device, True)\n",
    "\n",
    "print(\"GPU Name: \", gpu_devices)\n",
    "print(\"Is TF built with CUDA: \", tf.test.is_built_with_cuda())"
   ]
  },
  {
   "cell_type": "code",
   "execution_count": 3,
   "metadata": {},
   "outputs": [],
   "source": [
    "%matplotlib inline\n",
    "sns.set_style(\"whitegrid\")"
   ]
  },
  {
   "cell_type": "markdown",
   "metadata": {},
   "source": [
    "## Import Data"
   ]
  },
  {
   "cell_type": "code",
   "execution_count": 4,
   "metadata": {},
   "outputs": [],
   "source": [
    "DATA_PATH = \"./data/pokemon_data/\"\n",
    "data_dir = pathlib.Path(DATA_PATH)"
   ]
  },
  {
   "cell_type": "markdown",
   "metadata": {},
   "source": [
    "### Number of total images."
   ]
  },
  {
   "cell_type": "code",
   "execution_count": 5,
   "metadata": {},
   "outputs": [
    {
     "data": {
      "text/plain": [
       "6655"
      ]
     },
     "execution_count": 5,
     "metadata": {},
     "output_type": "execute_result"
    }
   ],
   "source": [
    "image_count = len(list(data_dir.glob('*/*.jpeg')))\n",
    "image_count"
   ]
  },
  {
   "cell_type": "markdown",
   "metadata": {},
   "source": [
    "### Number of classes."
   ]
  },
  {
   "cell_type": "code",
   "execution_count": 6,
   "metadata": {},
   "outputs": [
    {
     "data": {
      "text/plain": [
       "149"
      ]
     },
     "execution_count": 6,
     "metadata": {},
     "output_type": "execute_result"
    }
   ],
   "source": [
    "class_names = [item.name.lower() for item in data_dir.glob('*')]\n",
    "len(class_names)"
   ]
  },
  {
   "cell_type": "markdown",
   "metadata": {},
   "source": [
    "### Dictionary for class <=> id conversion"
   ]
  },
  {
   "cell_type": "code",
   "execution_count": 7,
   "metadata": {},
   "outputs": [],
   "source": [
    "class2idx = {v:k for k,v in enumerate(class_names)}\n",
    "idx2class = {v:k for k,v in class2idx.items()}"
   ]
  },
  {
   "cell_type": "markdown",
   "metadata": {},
   "source": [
    "### Paths for images and labels"
   ]
  },
  {
   "cell_type": "code",
   "execution_count": 8,
   "metadata": {},
   "outputs": [],
   "source": [
    "images = []\n",
    "labels = []\n",
    "\n",
    "for class_name in os.listdir(DATA_PATH):\n",
    "    for img in os.listdir(DATA_PATH + class_name + \"/\"):\n",
    "        if img.endswith(\".jpeg\") or img.endswith(\".png\"):\n",
    "            images.append(DATA_PATH + class_name + \"/\" + img)\n",
    "            labels.append(class2idx[class_name.lower()])"
   ]
  },
  {
   "cell_type": "markdown",
   "metadata": {},
   "source": [
    "## Create Dataset"
   ]
  },
  {
   "cell_type": "code",
   "execution_count": 9,
   "metadata": {},
   "outputs": [],
   "source": [
    "IMG_SIZE = 160\n",
    "BATCH_SIZE = 8\n",
    "SHUFFLE_BUFFER = 100"
   ]
  },
  {
   "cell_type": "code",
   "execution_count": 10,
   "metadata": {},
   "outputs": [],
   "source": [
    "X_train, X_test, y_train, y_test = train_test_split(images, labels, test_size=0.2, random_state=42, stratify = labels)"
   ]
  },
  {
   "cell_type": "code",
   "execution_count": 11,
   "metadata": {},
   "outputs": [],
   "source": [
    "train_dataset = tf.data.Dataset.from_tensor_slices((X_train, y_train))\n",
    "test_dataset = tf.data.Dataset.from_tensor_slices((X_test, y_test))"
   ]
  },
  {
   "cell_type": "code",
   "execution_count": 12,
   "metadata": {},
   "outputs": [],
   "source": [
    "def decode_img(img):\n",
    "    # convert the compressed string to a 3D uint8 tensor\n",
    "    img = tf.image.decode_jpeg(img, channels=3)\n",
    "    # Use `convert_image_dtype` to convert to floats in the [0,1] range.\n",
    "    img = tf.image.convert_image_dtype(img, tf.float32)\n",
    "    # resize the image to the desired size.\n",
    "    return tf.image.resize(img, [IMG_SIZE, IMG_SIZE])\n",
    "\n",
    "\n",
    "def pre_process_data(file_path, label):\n",
    "    # load the raw data from the file as a string\n",
    "    img = tf.io.read_file(file_path)\n",
    "    img = decode_img(img)\n",
    "    return img, label"
   ]
  },
  {
   "cell_type": "code",
   "execution_count": 13,
   "metadata": {},
   "outputs": [],
   "source": [
    "train_dataset = train_dataset.map(pre_process_data)\n",
    "test_dataset = test_dataset.map(pre_process_data)"
   ]
  },
  {
   "cell_type": "code",
   "execution_count": 14,
   "metadata": {},
   "outputs": [
    {
     "name": "stdout",
     "output_type": "stream",
     "text": [
      "Train dataset:  <MapDataset shapes: ((160, 160, 3), ()), types: (tf.float32, tf.int32)>\n",
      "Test dataset:  <MapDataset shapes: ((160, 160, 3), ()), types: (tf.float32, tf.int32)>\n"
     ]
    }
   ],
   "source": [
    "print(\"Train dataset: \", train_dataset)\n",
    "print(\"Test dataset: \", test_dataset)"
   ]
  },
  {
   "cell_type": "markdown",
   "metadata": {},
   "source": [
    "### Exploratory Analysis"
   ]
  },
  {
   "cell_type": "code",
   "execution_count": 15,
   "metadata": {},
   "outputs": [],
   "source": [
    "def get_class_distribution(dataset_obj):\n",
    "    count_dict = {k:0 for k,v in class2idx.items()}\n",
    "    \n",
    "    for _, label_id in dataset_obj:\n",
    "        label = idx2class[label_id.numpy()]\n",
    "        count_dict[label] += 1\n",
    "    return count_dict"
   ]
  },
  {
   "cell_type": "markdown",
   "metadata": {},
   "source": [
    "### Class distribution"
   ]
  },
  {
   "cell_type": "code",
   "execution_count": 16,
   "metadata": {},
   "outputs": [],
   "source": [
    "# get_class_distribution(train_dataset)"
   ]
  },
  {
   "cell_type": "markdown",
   "metadata": {},
   "source": [
    "## Train Model"
   ]
  },
  {
   "cell_type": "markdown",
   "metadata": {},
   "source": [
    "### Shuffle and Batch Input Tensors"
   ]
  },
  {
   "cell_type": "code",
   "execution_count": 17,
   "metadata": {},
   "outputs": [],
   "source": [
    "train_dataset = train_dataset.shuffle(SHUFFLE_BUFFER).batch(BATCH_SIZE, drop_remainder=True)\n",
    "test_dataset = test_dataset.batch(1)"
   ]
  },
  {
   "cell_type": "code",
   "execution_count": 18,
   "metadata": {},
   "outputs": [
    {
     "data": {
      "text/plain": [
       "<BatchDataset shapes: ((8, 160, 160, 3), (8,)), types: (tf.float32, tf.int32)>"
      ]
     },
     "execution_count": 18,
     "metadata": {},
     "output_type": "execute_result"
    }
   ],
   "source": [
    "train_dataset"
   ]
  },
  {
   "cell_type": "markdown",
   "metadata": {},
   "source": [
    "### Train Classifier Head of PreTrained Model"
   ]
  },
  {
   "cell_type": "code",
   "execution_count": 19,
   "metadata": {},
   "outputs": [],
   "source": [
    "num_epochs = 10"
   ]
  },
  {
   "cell_type": "code",
   "execution_count": 20,
   "metadata": {},
   "outputs": [
    {
     "name": "stdout",
     "output_type": "stream",
     "text": [
      "Epoch 1/10\n",
      "677/677 [==============================] - 20s 29ms/step - loss: 6.5018 - accuracy: 0.0541\n",
      "Epoch 2/10\n",
      "677/677 [==============================] - 20s 29ms/step - loss: 3.4095 - accuracy: 0.2805\n",
      "Epoch 3/10\n",
      "677/677 [==============================] - 20s 29ms/step - loss: 2.0407 - accuracy: 0.5157\n",
      "Epoch 4/10\n",
      "677/677 [==============================] - 20s 29ms/step - loss: 1.3099 - accuracy: 0.6780\n",
      "Epoch 5/10\n",
      "677/677 [==============================] - 20s 29ms/step - loss: 0.8828 - accuracy: 0.7903\n",
      "Epoch 6/10\n",
      "677/677 [==============================] - 20s 30ms/step - loss: 0.6035 - accuracy: 0.8737\n",
      "Epoch 7/10\n",
      "677/677 [==============================] - 20s 29ms/step - loss: 0.4121 - accuracy: 0.9260\n",
      "Epoch 8/10\n",
      "677/677 [==============================] - 20s 29ms/step - loss: 0.2829 - accuracy: 0.9577\n",
      "Epoch 9/10\n",
      "677/677 [==============================] - 20s 29ms/step - loss: 0.1912 - accuracy: 0.9790\n",
      "Epoch 10/10\n",
      "677/677 [==============================] - 20s 29ms/step - loss: 0.1303 - accuracy: 0.9887\n"
     ]
    }
   ],
   "source": [
    "with tf.device(\"GPU:0\"):\n",
    "\n",
    "    # Create the base model from the pre-trained model MobileNet V2\n",
    "    base_model = tf.keras.applications.MobileNetV2(input_shape=(IMG_SIZE, IMG_SIZE, 3), include_top=False, weights='imagenet')\n",
    "\n",
    "    # Freeze the pre-trained model weights\n",
    "    base_model.trainable = False# Trainable classification head\n",
    "\n",
    "    maxpool_layer = tf.keras.layers.GlobalMaxPooling2D()\n",
    "\n",
    "    prediction_layer = tf.keras.layers.Dense(149, activation='softmax')# Layer classification head with feature detector\n",
    "\n",
    "    model = tf.keras.Sequential([\n",
    "        base_model,\n",
    "        maxpool_layer,\n",
    "        prediction_layer\n",
    "    ])\n",
    "\n",
    "    learning_rate = 0.0001# Compile the model\n",
    "\n",
    "    model.compile(\n",
    "        optimizer=tf.keras.optimizers.Adam(lr=learning_rate), \n",
    "        loss=tf.keras.losses.SparseCategoricalCrossentropy(),\n",
    "        metrics=['accuracy']\n",
    "    )\n",
    "    \n",
    "    model.fit(\n",
    "        train_dataset,\n",
    "        epochs=num_epochs,\n",
    "    )"
   ]
  },
  {
   "cell_type": "code",
   "execution_count": 21,
   "metadata": {},
   "outputs": [
    {
     "name": "stdout",
     "output_type": "stream",
     "text": [
      "1355/1355 [==============================] - 6s 4ms/step - loss: 1.5236 - accuracy: 0.6376\n"
     ]
    },
    {
     "data": {
      "text/plain": [
       "[1.5235544443130493, 0.6376383900642395]"
      ]
     },
     "execution_count": 21,
     "metadata": {},
     "output_type": "execute_result"
    }
   ],
   "source": [
    "model.evaluate(test_dataset)"
   ]
  },
  {
   "cell_type": "markdown",
   "metadata": {},
   "source": [
    "### Fine Tune PreTrained Model"
   ]
  },
  {
   "cell_type": "code",
   "execution_count": 22,
   "metadata": {},
   "outputs": [
    {
     "name": "stdout",
     "output_type": "stream",
     "text": [
      "Epoch 11/40\n",
      "677/677 [==============================] - 23s 34ms/step - loss: 2.2586 - accuracy: 0.4943\n",
      "Epoch 12/40\n",
      "677/677 [==============================] - 23s 34ms/step - loss: 1.3818 - accuracy: 0.6377\n",
      "Epoch 13/40\n",
      "677/677 [==============================] - 23s 34ms/step - loss: 1.0808 - accuracy: 0.7138\n",
      "Epoch 14/40\n",
      "677/677 [==============================] - 24s 35ms/step - loss: 0.8169 - accuracy: 0.7666\n",
      "Epoch 15/40\n",
      "677/677 [==============================] - 23s 34ms/step - loss: 0.6892 - accuracy: 0.7965\n",
      "Epoch 16/40\n",
      "677/677 [==============================] - 23s 34ms/step - loss: 0.5620 - accuracy: 0.8359\n",
      "Epoch 17/40\n",
      "677/677 [==============================] - 23s 34ms/step - loss: 0.4670 - accuracy: 0.8588\n",
      "Epoch 18/40\n",
      "677/677 [==============================] - 23s 34ms/step - loss: 0.3824 - accuracy: 0.8852\n",
      "Epoch 19/40\n",
      "677/677 [==============================] - 23s 35ms/step - loss: 0.3226 - accuracy: 0.9018\n",
      "Epoch 20/40\n",
      "677/677 [==============================] - 24s 35ms/step - loss: 0.2651 - accuracy: 0.9193\n",
      "Epoch 21/40\n",
      "677/677 [==============================] - 23s 34ms/step - loss: 0.2583 - accuracy: 0.9223\n",
      "Epoch 22/40\n",
      "677/677 [==============================] - 23s 34ms/step - loss: 0.1889 - accuracy: 0.9442\n",
      "Epoch 23/40\n",
      "677/677 [==============================] - 23s 34ms/step - loss: 0.1827 - accuracy: 0.9448\n",
      "Epoch 24/40\n",
      "677/677 [==============================] - 23s 34ms/step - loss: 0.1462 - accuracy: 0.9579\n",
      "Epoch 25/40\n",
      "677/677 [==============================] - 23s 34ms/step - loss: 0.1499 - accuracy: 0.9531\n",
      "Epoch 26/40\n",
      "677/677 [==============================] - 23s 34ms/step - loss: 0.1353 - accuracy: 0.9627\n",
      "Epoch 27/40\n",
      "677/677 [==============================] - 23s 35ms/step - loss: 0.1146 - accuracy: 0.9655\n",
      "Epoch 28/40\n",
      "677/677 [==============================] - 23s 34ms/step - loss: 0.0888 - accuracy: 0.9764\n",
      "Epoch 29/40\n",
      "677/677 [==============================] - 23s 34ms/step - loss: 0.0838 - accuracy: 0.9769\n",
      "Epoch 30/40\n",
      "677/677 [==============================] - 23s 34ms/step - loss: 0.0850 - accuracy: 0.9758\n",
      "Epoch 31/40\n",
      "677/677 [==============================] - 23s 35ms/step - loss: 0.0837 - accuracy: 0.9771\n",
      "Epoch 32/40\n",
      "677/677 [==============================] - 24s 35ms/step - loss: 0.0639 - accuracy: 0.9843\n",
      "Epoch 33/40\n",
      "677/677 [==============================] - 24s 35ms/step - loss: 0.0582 - accuracy: 0.9841\n",
      "Epoch 34/40\n",
      "677/677 [==============================] - 23s 34ms/step - loss: 0.0623 - accuracy: 0.9832\n",
      "Epoch 35/40\n",
      "677/677 [==============================] - 23s 34ms/step - loss: 0.0560 - accuracy: 0.9856\n",
      "Epoch 36/40\n",
      "677/677 [==============================] - 23s 34ms/step - loss: 0.0465 - accuracy: 0.9865\n",
      "Epoch 37/40\n",
      "677/677 [==============================] - 23s 34ms/step - loss: 0.0423 - accuracy: 0.9900\n",
      "Epoch 38/40\n",
      "677/677 [==============================] - 24s 35ms/step - loss: 0.0454 - accuracy: 0.9887\n",
      "Epoch 39/40\n",
      "677/677 [==============================] - 23s 34ms/step - loss: 0.0440 - accuracy: 0.9886\n",
      "Epoch 40/40\n",
      "677/677 [==============================] - 23s 34ms/step - loss: 0.0407 - accuracy: 0.9902\n"
     ]
    },
    {
     "data": {
      "text/plain": [
       "<tensorflow.python.keras.callbacks.History at 0x7f3da07a9080>"
      ]
     },
     "execution_count": 22,
     "metadata": {},
     "output_type": "execute_result"
    }
   ],
   "source": [
    "# Unfreeze all layers of MobileNetV2\n",
    "base_model.trainable = True\n",
    "\n",
    "# Refreeze layers until the layers we want to fine-tune\n",
    "for layer in base_model.layers[:100]:\n",
    "    layer.trainable =  False\n",
    "    \n",
    "    \n",
    "# Use a lower learning rate\n",
    "lr_finetune = learning_rate / 10\n",
    "\n",
    "# Recompile the model\n",
    "model.compile(\n",
    "    optimizer=tf.keras.optimizers.Adam(lr=lr_finetune), \n",
    "    loss=tf.keras.losses.SparseCategoricalCrossentropy(),\n",
    "    metrics=['accuracy']\n",
    ")\n",
    "\n",
    "\n",
    "# Increase training epochs for fine-tuning\n",
    "fine_tune_epochs = 30\n",
    "\n",
    "total_epochs =  num_epochs + fine_tune_epochs\n",
    "\n",
    "# Fine-tune model\n",
    "# Note: Set initial_epoch to begin training after epoch 30 since we\n",
    "# previously trained for 30 epochs.\n",
    "model.fit(train_dataset, \n",
    "          epochs=total_epochs, \n",
    "          initial_epoch = num_epochs\n",
    "         )"
   ]
  },
  {
   "cell_type": "code",
   "execution_count": 23,
   "metadata": {},
   "outputs": [
    {
     "name": "stdout",
     "output_type": "stream",
     "text": [
      "1355/1355 [==============================] - 6s 4ms/step - loss: 0.8356 - accuracy: 0.8089\n"
     ]
    },
    {
     "data": {
      "text/plain": [
       "[0.8355814814567566, 0.8088560700416565]"
      ]
     },
     "execution_count": 23,
     "metadata": {},
     "output_type": "execute_result"
    }
   ],
   "source": [
    "model.evaluate(test_dataset)"
   ]
  },
  {
   "cell_type": "code",
   "execution_count": 24,
   "metadata": {},
   "outputs": [],
   "source": [
    "y_pred = model.predict(test_dataset)"
   ]
  },
  {
   "cell_type": "code",
   "execution_count": 25,
   "metadata": {},
   "outputs": [],
   "source": [
    "y_pred_list = []\n",
    "\n",
    "for i in range(len(y_pred)):\n",
    "    class_id = np.argmax(y_pred[i])\n",
    "    y_pred_list.append(class_id)"
   ]
  },
  {
   "cell_type": "code",
   "execution_count": 26,
   "metadata": {},
   "outputs": [
    {
     "name": "stdout",
     "output_type": "stream",
     "text": [
      "              precision    recall  f1-score   support\n",
      "\n",
      "           0       0.56      0.71      0.63         7\n",
      "           1       0.71      0.45      0.56        11\n",
      "           2       0.86      0.86      0.86         7\n",
      "           3       0.80      0.50      0.62         8\n",
      "           4       0.69      0.90      0.78        10\n",
      "           5       0.80      0.80      0.80         5\n",
      "           6       1.00      0.80      0.89        10\n",
      "           7       1.00      1.00      1.00         9\n",
      "           8       1.00      0.60      0.75        10\n",
      "           9       1.00      0.89      0.94         9\n",
      "          10       0.60      0.67      0.63         9\n",
      "          11       0.90      1.00      0.95         9\n",
      "          12       0.64      0.70      0.67        10\n",
      "          13       1.00      0.71      0.83         7\n",
      "          14       0.91      0.91      0.91        11\n",
      "          15       0.86      0.75      0.80         8\n",
      "          16       0.82      1.00      0.90         9\n",
      "          17       1.00      0.56      0.71         9\n",
      "          18       0.87      1.00      0.93        13\n",
      "          19       0.57      0.44      0.50         9\n",
      "          20       0.67      0.75      0.71         8\n",
      "          21       1.00      0.71      0.83         7\n",
      "          22       1.00      0.89      0.94         9\n",
      "          23       0.86      0.67      0.75         9\n",
      "          24       0.75      0.60      0.67         5\n",
      "          25       0.62      0.62      0.62         8\n",
      "          26       0.73      1.00      0.84         8\n",
      "          27       0.89      1.00      0.94         8\n",
      "          28       1.00      0.89      0.94         9\n",
      "          29       1.00      0.80      0.89        10\n",
      "          30       0.80      0.89      0.84         9\n",
      "          31       0.90      1.00      0.95         9\n",
      "          32       0.88      0.78      0.82         9\n",
      "          33       0.89      0.89      0.89         9\n",
      "          34       0.89      0.89      0.89         9\n",
      "          35       0.82      1.00      0.90         9\n",
      "          36       0.86      0.86      0.86         7\n",
      "          37       1.00      0.75      0.86         8\n",
      "          38       0.54      0.78      0.64         9\n",
      "          39       0.80      0.89      0.84         9\n",
      "          40       0.80      0.89      0.84         9\n",
      "          41       1.00      0.80      0.89        10\n",
      "          42       0.89      0.89      0.89         9\n",
      "          43       0.78      0.88      0.82         8\n",
      "          44       0.71      0.62      0.67         8\n",
      "          45       1.00      1.00      1.00        10\n",
      "          46       0.82      0.75      0.78        12\n",
      "          47       0.90      0.90      0.90        10\n",
      "          48       0.73      0.89      0.80         9\n",
      "          49       1.00      0.90      0.95        10\n",
      "          50       0.80      0.57      0.67         7\n",
      "          51       1.00      0.80      0.89        10\n",
      "          52       0.67      0.80      0.73        10\n",
      "          53       1.00      0.75      0.86        12\n",
      "          54       0.90      0.90      0.90        10\n",
      "          55       0.86      0.75      0.80         8\n",
      "          56       0.90      0.90      0.90        10\n",
      "          57       0.75      0.90      0.82        10\n",
      "          58       0.69      1.00      0.82         9\n",
      "          59       0.70      0.88      0.78         8\n",
      "          60       0.75      0.90      0.82        10\n",
      "          61       1.00      0.78      0.88         9\n",
      "          62       0.85      1.00      0.92        11\n",
      "          63       0.75      0.60      0.67        10\n",
      "          64       0.62      0.89      0.73         9\n",
      "          65       0.86      0.86      0.86         7\n",
      "          66       1.00      0.62      0.77         8\n",
      "          67       0.88      0.70      0.78        10\n",
      "          68       0.90      0.90      0.90        10\n",
      "          69       0.88      0.78      0.82         9\n",
      "          70       0.56      0.90      0.69        10\n",
      "          71       0.67      0.33      0.44         6\n",
      "          72       0.82      0.90      0.86        10\n",
      "          73       0.69      0.90      0.78        10\n",
      "          74       0.90      0.82      0.86        11\n",
      "          75       0.55      0.75      0.63         8\n",
      "          76       0.58      1.00      0.74         7\n",
      "          77       0.80      0.80      0.80        10\n",
      "          78       1.00      0.90      0.95        10\n",
      "          79       0.88      0.88      0.88         8\n",
      "          80       0.75      0.38      0.50         8\n",
      "          81       1.00      0.67      0.80         9\n",
      "          82       0.88      0.64      0.74        11\n",
      "          83       0.90      1.00      0.95         9\n",
      "          84       0.75      0.75      0.75         8\n",
      "          85       0.89      0.80      0.84        10\n",
      "          86       0.73      0.73      0.73        11\n",
      "          87       0.86      0.75      0.80         8\n",
      "          88       0.69      0.90      0.78        10\n",
      "          89       0.89      0.73      0.80        11\n",
      "          90       0.73      0.80      0.76        10\n",
      "          91       0.86      0.67      0.75         9\n",
      "          92       0.75      0.90      0.82        10\n",
      "          93       0.89      1.00      0.94         8\n",
      "          94       0.78      0.88      0.82         8\n",
      "          95       1.00      1.00      1.00         9\n",
      "          96       0.89      0.80      0.84        10\n",
      "          97       0.88      1.00      0.93         7\n",
      "          98       0.89      1.00      0.94         8\n",
      "          99       0.78      1.00      0.88         7\n",
      "         100       0.89      0.80      0.84        10\n",
      "         101       0.50      0.62      0.56         8\n",
      "         102       0.71      0.62      0.67         8\n",
      "         103       0.89      1.00      0.94         8\n",
      "         104       1.00      0.78      0.88         9\n",
      "         105       0.75      1.00      0.86         9\n",
      "         106       1.00      0.89      0.94         9\n",
      "         107       0.78      0.88      0.82         8\n",
      "         108       0.67      0.75      0.71         8\n",
      "         109       1.00      0.80      0.89         5\n",
      "         110       0.82      0.90      0.86        10\n",
      "         111       0.90      0.90      0.90        10\n",
      "         112       0.80      0.89      0.84         9\n",
      "         113       0.57      0.44      0.50         9\n",
      "         114       0.88      0.88      0.88         8\n",
      "         115       1.00      0.80      0.89        10\n",
      "         116       0.89      0.80      0.84        10\n",
      "         117       0.91      1.00      0.95        10\n",
      "         118       0.80      0.50      0.62         8\n",
      "         119       0.88      0.78      0.82         9\n",
      "         120       1.00      0.92      0.96        12\n",
      "         121       1.00      0.90      0.95        10\n",
      "         122       0.90      0.90      0.90        10\n",
      "         123       0.62      0.62      0.62         8\n",
      "         124       0.75      0.90      0.82        10\n",
      "         125       0.89      0.80      0.84        10\n",
      "         126       0.75      0.33      0.46         9\n",
      "         127       0.91      0.91      0.91        11\n",
      "         128       0.78      0.88      0.82         8\n",
      "         129       0.73      1.00      0.85        11\n",
      "         130       1.00      0.78      0.88         9\n",
      "         131       0.67      0.73      0.70        11\n",
      "         132       0.75      1.00      0.86         6\n",
      "         133       0.78      0.70      0.74        10\n",
      "         134       0.80      0.80      0.80        10\n",
      "         135       0.82      1.00      0.90         9\n",
      "         136       0.57      0.44      0.50         9\n",
      "         137       0.56      0.91      0.69        11\n",
      "         138       1.00      0.73      0.84        11\n",
      "         139       1.00      0.90      0.95        10\n",
      "         140       0.73      0.80      0.76        10\n",
      "         141       0.67      0.92      0.77        13\n",
      "         142       0.80      0.80      0.80        10\n",
      "         143       0.50      0.56      0.53         9\n",
      "         144       0.67      0.44      0.53         9\n",
      "         145       0.70      0.64      0.67        11\n",
      "         146       0.78      0.88      0.82         8\n",
      "         147       0.83      1.00      0.91         5\n",
      "         148       0.86      0.67      0.75         9\n",
      "\n",
      "    accuracy                           0.81      1355\n",
      "   macro avg       0.82      0.81      0.80      1355\n",
      "weighted avg       0.82      0.81      0.81      1355\n",
      "\n"
     ]
    }
   ],
   "source": [
    "print(classification_report(y_test, y_pred_list))"
   ]
  },
  {
   "cell_type": "code",
   "execution_count": 29,
   "metadata": {},
   "outputs": [],
   "source": [
    "model.save(\"./models/pokemon_mobilenet_pretrained_new.h5\")"
   ]
  }
 ],
 "metadata": {
  "kernelspec": {
   "display_name": "Python 3",
   "language": "python",
   "name": "python3"
  },
  "language_info": {
   "codemirror_mode": {
    "name": "ipython",
    "version": 3
   },
   "file_extension": ".py",
   "mimetype": "text/x-python",
   "name": "python",
   "nbconvert_exporter": "python",
   "pygments_lexer": "ipython3",
   "version": "3.6.10"
  }
 },
 "nbformat": 4,
 "nbformat_minor": 4
}
